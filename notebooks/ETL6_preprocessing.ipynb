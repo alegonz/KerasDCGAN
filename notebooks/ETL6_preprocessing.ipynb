{
 "cells": [
  {
   "cell_type": "code",
   "execution_count": 1,
   "metadata": {
    "ExecuteTime": {
     "end_time": "2017-10-02T12:56:16.327405Z",
     "start_time": "2017-10-02T12:56:16.060798Z"
    },
    "collapsed": true,
    "deletable": true,
    "editable": true
   },
   "outputs": [],
   "source": [
    "%matplotlib inline\n",
    "from matplotlib import pyplot as plt"
   ]
  },
  {
   "cell_type": "code",
   "execution_count": 2,
   "metadata": {
    "ExecuteTime": {
     "end_time": "2017-10-02T12:56:16.554246Z",
     "start_time": "2017-10-02T12:56:16.549483Z"
    },
    "collapsed": true,
    "deletable": true,
    "editable": true
   },
   "outputs": [],
   "source": [
    "import os\n",
    "import glob\n",
    "import struct\n",
    "import numpy as np\n",
    "from PIL import Image"
   ]
  },
  {
   "cell_type": "markdown",
   "metadata": {
    "deletable": true,
    "editable": true
   },
   "source": [
    "### Contents of logical record (2052 bytes)"
   ]
  },
  {
   "cell_type": "markdown",
   "metadata": {
    "deletable": true,
    "editable": true
   },
   "source": [
    "```\n",
    " --------------------------------------------------------------------------------------------\n",
    "|             |Number|        |                                                              |\n",
    "|     Byte    |  of  |  Type  |            Contents of Logical Record                        |\n",
    "|   Position  | Bytes|        |                                                              |\n",
    "|============================================================================================|\n",
    "|    1 -    2 |    2 | Integer| Data Number (greater than or equal to 1)                     |\n",
    "|    3 -    4 |    2 | ASCII  | Character Code ( ex. \"0 \", \"A \", \"$ \", \" A\", \"KA\" )          |\n",
    "|    5 -    6 |    2 | Integer| Serial Sheet Number (greater than or equal to 0)             |\n",
    "|I   7        |    1 | Binary | JIS Code (JIS X 0201)                                        |\n",
    "|D   8        |    1 | Binary | EBCDIC Code                                                  |\n",
    "|    9        |    1 | Integer| Evaluation of Individual Character Image (0=clean, 1, 2, 3)  |\n",
    "|P  10        |    1 | Integer| Evaluation of Character Group (0=clean, 1, 2)                |\n",
    "|a  11        |    1 | Integer| Male-Female Code ( 1=male, 2=female ) (JIS X 0303)           |\n",
    "|r  12        |    1 | Integer| Age of Writer                                                |\n",
    "|t  13 -   16 |    4 | Integer| Serial Data Number (greater than or equal to 1)              |\n",
    "|   17 -   18 |    2 | Integer| Industry Classification Code (JIS X 0403)                    |\n",
    "|   19 -   20 |    2 | Integer| Occupation Classification Code (JIS X 0404)                  |\n",
    "|   21 -   22 |    2 | Integer| Sheet Gatherring Date (19)YYMM                               |\n",
    "|   23 -   24 |    2 | Integer| Scanning Date (19)YYMM                                       |\n",
    "|   25        |    1 | Integer| Sample Position Y on Sheet (greater than or equal to 1)      |\n",
    "|   26        |    1 | Integer| Sample Position X on Sheet (greater than or equal to 1)      |\n",
    "|   27        |    1 | Integer| Minimum Scanned Level (0 - 255)                              |\n",
    "|   28        |    1 | Integer| Maximum Scanned Level (0 - 255)                              |\n",
    "|   29 -   30 |    2 | Integer| (undefined)                                                  |\n",
    "|   31 -   32 |    2 | Integer| (undefined)                                                  |\n",
    "|-------------|------|--------|--------------------------------------------------------------|\n",
    "|   33 - 2048 | 2016 | Packed | 16 Gray Level (4bit/pixel) Image Data                        |\n",
    "|             |      |        | 64(X-axis size) * 63(Y-axis size) = 4032 pixels              |\n",
    "|-------------|------|--------|--------------------------------------------------------------|\n",
    "| 2049 - 2052 |    4 |        | (uncertain)                                                  |\n",
    " --------------------------------------------------------------------------------------------\n",
    "```"
   ]
  },
  {
   "cell_type": "markdown",
   "metadata": {},
   "source": [
    "### Functions"
   ]
  },
  {
   "cell_type": "code",
   "execution_count": 75,
   "metadata": {
    "ExecuteTime": {
     "end_time": "2017-10-02T13:42:50.293685Z",
     "start_time": "2017-10-02T13:42:50.229606Z"
    },
    "collapsed": true,
    "deletable": true,
    "editable": true
   },
   "outputs": [],
   "source": [
    "def read_ETL_file(f, sample_size, bits_per_pixel, image_shape, unpack_format, image_idx):    \n",
    "    bytes = f.read(sample_size)\n",
    "    sample = struct.unpack(unpack_format, bytes)\n",
    "    \n",
    "    img = Image.frombytes('F', image_shape, sample[image_idx], 'bit', bits_per_pixel)\n",
    "    img = img.convert('L')\n",
    "    img = Image.eval(img, lambda x: (255.0*x)/(2**bits_per_pixel - 1))  # rescale to 0~255 range\n",
    "    sample += (img,)\n",
    "    \n",
    "    return sample\n",
    "\n",
    "\n",
    "def read_ETL6_data(basepath):\n",
    "    paths = glob.glob(os.path.join(basepath, 'ETL6C_*'))\n",
    "    \n",
    "    sample_size = 2052  # bytes\n",
    "    bits_per_pixel = 4  # bits\n",
    "    image_shape = (64, 63)  # pixels\n",
    "    unpack_format = '>H2sH6BI4H4B2H2016s4x'\n",
    "    image_idx = 20\n",
    "\n",
    "    data = []\n",
    "    for path in paths:\n",
    "        n_samples = os.stat(path).st_size // sample_size\n",
    "\n",
    "        with open(path, 'r') as f:\n",
    "            for i in range(n_samples):\n",
    "                f.seek(i * sample_size)\n",
    "                data.append(read_ETL_file(f, sample_size, bits_per_pixel,\n",
    "                                          image_shape, unpack_format, image_idx))\n",
    "    \n",
    "    return data\n",
    "\n",
    "\n",
    "def data2array(data, new_shape=None, norm_factor=255.0, expand_dims=True):\n",
    "    \n",
    "    if new_shape is None:\n",
    "        images = [np.asarray(d[-1]) for d in data]\n",
    "    else:\n",
    "        images = [np.asarray(d[-1].resize(new_shape, Image.BICUBIC)) for d in data]\n",
    "    \n",
    "    array = np.stack(images, axis=0)\n",
    "    \n",
    "    if norm_factor:\n",
    "        array = np.float32(array) / norm_factor\n",
    "    \n",
    "    if expand_dims:\n",
    "        array = np.expand_dims(array, axis=3)\n",
    "    \n",
    "    labels = np.char.asarray([d[1] for d in data])\n",
    "    \n",
    "    return array, labels"
   ]
  },
  {
   "cell_type": "markdown",
   "metadata": {},
   "source": [
    "### Make array"
   ]
  },
  {
   "cell_type": "code",
   "execution_count": 31,
   "metadata": {
    "ExecuteTime": {
     "end_time": "2017-10-02T13:08:16.466588Z",
     "start_time": "2017-10-02T13:07:59.689934Z"
    },
    "collapsed": false,
    "deletable": true,
    "editable": true
   },
   "outputs": [],
   "source": [
    "data = read_ETL6_data('/root/share/personal/data/ETL/ETL6/')"
   ]
  },
  {
   "cell_type": "code",
   "execution_count": 76,
   "metadata": {
    "ExecuteTime": {
     "end_time": "2017-10-02T13:43:31.093460Z",
     "start_time": "2017-10-02T13:43:00.559890Z"
    },
    "collapsed": false
   },
   "outputs": [],
   "source": [
    "x, y = data2array(data, new_shape=(28, 28))"
   ]
  },
  {
   "cell_type": "code",
   "execution_count": 53,
   "metadata": {
    "ExecuteTime": {
     "end_time": "2017-10-02T13:21:09.395201Z",
     "start_time": "2017-10-02T13:21:09.360024Z"
    },
    "collapsed": false
   },
   "outputs": [
    {
     "data": {
      "text/plain": [
       "chararray([' A', ' E', ' I', ' N', ' O', ' U', '#', '$S', '$Y', \"'\", \"''\", '(',\n",
       "       '((', '(K', ')', '))', ')K', '*', '+', '++', '+1', ',', ',,', ',0',\n",
       "       '-', '-6', '.', '.,', '..', '.7', '/', '/0', '/X', '0', '1', '2',\n",
       "       '3', '4', '5', '6', '7', '8', '9', '=', '=(', '=)', '=X', '@', 'A',\n",
       "       'B', 'C', 'D', 'E', 'F', 'G', 'H', 'HA', 'HE', 'HI', 'HO', 'HU',\n",
       "       'I', 'J', 'K', 'KA', 'KE', 'KI', 'KO', 'KU', 'L', 'M', 'MA', 'ME',\n",
       "       'MI', 'MO', 'MU', 'N', 'NA', 'NE', 'NI', 'NO', 'NU', 'O', 'P', 'Q',\n",
       "       'R', 'RA', 'RE', 'RI', 'RO', 'RU', 'S', 'SA', 'SE', 'SI', 'SO',\n",
       "       'SU', 'T', 'TA', 'TE', 'TI', 'TO', 'TU', 'U', 'V', 'W', 'WA', 'WO',\n",
       "       'X', 'Y', 'YA', 'YO', 'YU', 'Z'], \n",
       "      dtype='|S2')"
      ]
     },
     "execution_count": 53,
     "metadata": {},
     "output_type": "execute_result"
    }
   ],
   "source": [
    "np.unique(y)"
   ]
  },
  {
   "cell_type": "code",
   "execution_count": 61,
   "metadata": {
    "ExecuteTime": {
     "end_time": "2017-10-02T13:28:38.090001Z",
     "start_time": "2017-10-02T13:28:38.085035Z"
    },
    "collapsed": true
   },
   "outputs": [],
   "source": [
    "katakana = [''.join(e) for e in product(' KSTNHMYRW', 'AIUEO')] + [' N']  # Includes obsolete characters"
   ]
  },
  {
   "cell_type": "code",
   "execution_count": 65,
   "metadata": {
    "ExecuteTime": {
     "end_time": "2017-10-02T13:30:03.567180Z",
     "start_time": "2017-10-02T13:30:03.376290Z"
    },
    "collapsed": true
   },
   "outputs": [],
   "source": [
    "idx = [i for i, label in enumerate(y) if label in katakana]"
   ]
  },
  {
   "cell_type": "code",
   "execution_count": 83,
   "metadata": {
    "ExecuteTime": {
     "end_time": "2017-10-02T13:45:01.913310Z",
     "start_time": "2017-10-02T13:45:01.727465Z"
    },
    "collapsed": false
   },
   "outputs": [
    {
     "data": {
      "text/plain": [
       "<matplotlib.image.AxesImage at 0x7f9b6232a6d0>"
      ]
     },
     "execution_count": 83,
     "metadata": {},
     "output_type": "execute_result"
    },
    {
     "data": {
      "image/png": "[encoded data removed]",
      "text/plain": [
       "<matplotlib.figure.Figure at 0x7f9b62395b50>"
      ]
     },
     "metadata": {},
     "output_type": "display_data"
    }
   ],
   "source": [
    "plt.imshow(x[60000,:,:,0])"
   ]
  },
  {
   "cell_type": "code",
   "execution_count": null,
   "metadata": {
    "collapsed": true
   },
   "outputs": [],
   "source": []
  }
 ],
 "metadata": {
  "kernelspec": {
   "display_name": "Python 2",
   "language": "python",
   "name": "python2"
  },
  "language_info": {
   "codemirror_mode": {
    "name": "ipython",
    "version": 2
   },
   "file_extension": ".py",
   "mimetype": "text/x-python",
   "name": "python",
   "nbconvert_exporter": "python",
   "pygments_lexer": "ipython2",
   "version": "2.7.12"
  }
 },
 "nbformat": 4,
 "nbformat_minor": 2
}
