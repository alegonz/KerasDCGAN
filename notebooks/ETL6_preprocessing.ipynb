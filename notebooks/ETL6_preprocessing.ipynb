{
 "cells": [
  {
   "cell_type": "code",
   "execution_count": 1,
   "metadata": {
    "ExecuteTime": {
     "end_time": "2017-10-02T08:47:23.704475Z",
     "start_time": "2017-10-02T08:47:23.482469Z"
    },
    "collapsed": true
   },
   "outputs": [],
   "source": [
    "%matplotlib inline\n",
    "from matplotlib import pyplot as plt"
   ]
  },
  {
   "cell_type": "code",
   "execution_count": 2,
   "metadata": {
    "ExecuteTime": {
     "end_time": "2017-10-02T08:47:24.543422Z",
     "start_time": "2017-10-02T08:47:24.538793Z"
    },
    "collapsed": true
   },
   "outputs": [],
   "source": [
    "import os\n",
    "import struct\n",
    "from PIL import Image"
   ]
  },
  {
   "cell_type": "markdown",
   "metadata": {},
   "source": [
    "#### Contents of logical record (2052 bytes)"
   ]
  },
  {
   "cell_type": "markdown",
   "metadata": {},
   "source": [
    "```\n",
    " --------------------------------------------------------------------------------------------\n",
    "|             |Number|        |                                                              |\n",
    "|     Byte    |  of  |  Type  |            Contents of Logical Record                        |\n",
    "|   Position  | Bytes|        |                                                              |\n",
    "|============================================================================================|\n",
    "|    1 -    2 |    2 | Integer| Data Number (greater than or equal to 1)                     |\n",
    "|    3 -    4 |    2 | ASCII  | Character Code ( ex. \"0 \", \"A \", \"$ \", \" A\", \"KA\" )          |\n",
    "|    5 -    6 |    2 | Integer| Serial Sheet Number (greater than or equal to 0)             |\n",
    "|I   7        |    1 | Binary | JIS Code (JIS X 0201)                                        |\n",
    "|D   8        |    1 | Binary | EBCDIC Code                                                  |\n",
    "|    9        |    1 | Integer| Evaluation of Individual Character Image (0=clean, 1, 2, 3)  |\n",
    "|P  10        |    1 | Integer| Evaluation of Character Group (0=clean, 1, 2)                |\n",
    "|a  11        |    1 | Integer| Male-Female Code ( 1=male, 2=female ) (JIS X 0303)           |\n",
    "|r  12        |    1 | Integer| Age of Writer                                                |\n",
    "|t  13 -   16 |    4 | Integer| Serial Data Number (greater than or equal to 1)              |\n",
    "|   17 -   18 |    2 | Integer| Industry Classification Code (JIS X 0403)                    |\n",
    "|   19 -   20 |    2 | Integer| Occupation Classification Code (JIS X 0404)                  |\n",
    "|   21 -   22 |    2 | Integer| Sheet Gatherring Date (19)YYMM                               |\n",
    "|   23 -   24 |    2 | Integer| Scanning Date (19)YYMM                                       |\n",
    "|   25        |    1 | Integer| Sample Position Y on Sheet (greater than or equal to 1)      |\n",
    "|   26        |    1 | Integer| Sample Position X on Sheet (greater than or equal to 1)      |\n",
    "|   27        |    1 | Integer| Minimum Scanned Level (0 - 255)                              |\n",
    "|   28        |    1 | Integer| Maximum Scanned Level (0 - 255)                              |\n",
    "|   29 -   30 |    2 | Integer| (undefined)                                                  |\n",
    "|   31 -   32 |    2 | Integer| (undefined)                                                  |\n",
    "|-------------|------|--------|--------------------------------------------------------------|\n",
    "|   33 - 2048 | 2016 | Packed | 16 Gray Level (4bit/pixel) Image Data                        |\n",
    "|             |      |        | 64(X-axis size) * 63(Y-axis size) = 4032 pixels              |\n",
    "|-------------|------|--------|--------------------------------------------------------------|\n",
    "| 2049 - 2052 |    4 |        | (uncertain)                                                  |\n",
    " --------------------------------------------------------------------------------------------\n",
    "```"
   ]
  },
  {
   "cell_type": "code",
   "execution_count": 5,
   "metadata": {
    "ExecuteTime": {
     "end_time": "2017-10-02T08:48:47.598932Z",
     "start_time": "2017-10-02T08:48:47.585954Z"
    },
    "collapsed": true
   },
   "outputs": [],
   "source": [
    "def read_sample_ETL6(f):\n",
    "    sample_size = 2052  # bytes\n",
    "    bits_per_pixel = 4  # bits\n",
    "    image_shape = (64, 63)\n",
    "    \n",
    "    bytes = f.read(sample_size)\n",
    "    sample = struct.unpack('>H2sH6BI4H4B2H2016s4x', bytes)\n",
    "    \n",
    "    img = Image.frombytes('F', image_shape, sample[20], 'bit', bits_per_pixel)\n",
    "    img = img.convert('L')\n",
    "    img = Image.eval(img, lambda x: x*16)  # rescale to 0~255 range\n",
    "    sample += (img,)\n",
    "    \n",
    "    return sample"
   ]
  },
  {
   "cell_type": "code",
   "execution_count": 6,
   "metadata": {
    "ExecuteTime": {
     "end_time": "2017-10-02T08:48:50.376908Z",
     "start_time": "2017-10-02T08:48:49.240567Z"
    },
    "collapsed": false
   },
   "outputs": [],
   "source": [
    "filename = '/root/share/personal/data/ETL/ETL6/ETL6C_01'\n",
    "\n",
    "sample_size = 2052\n",
    "n_samples = os.stat(filename).st_size // sample_size\n",
    "\n",
    "data = []\n",
    "with open(filename, 'r') as f:\n",
    "    for i in range(n_samples):\n",
    "        f.seek(i * sample_size)\n",
    "        data.append(read_sample_ETL6(f))\n"
   ]
  },
  {
   "cell_type": "code",
   "execution_count": 17,
   "metadata": {
    "ExecuteTime": {
     "end_time": "2017-10-02T08:49:31.635272Z",
     "start_time": "2017-10-02T08:49:31.627365Z"
    },
    "collapsed": false
   },
   "outputs": [
    {
     "data": {
      "image/png": "[encoded data removed]",
      "text/plain": [
       "<PIL.Image.Image image mode=L size=64x63 at 0x7F17E13C1B50>"
      ]
     },
     "execution_count": 17,
     "metadata": {},
     "output_type": "execute_result"
    }
   ],
   "source": [
    "data[13006][-1]"
   ]
  },
  {
   "cell_type": "code",
   "execution_count": 18,
   "metadata": {
    "ExecuteTime": {
     "end_time": "2017-10-02T08:51:50.786247Z",
     "start_time": "2017-10-02T08:51:50.782123Z"
    },
    "collapsed": false
   },
   "outputs": [],
   "source": [
    "import numpy as np"
   ]
  },
  {
   "cell_type": "code",
   "execution_count": 30,
   "metadata": {
    "ExecuteTime": {
     "end_time": "2017-10-02T08:54:02.860751Z",
     "start_time": "2017-10-02T08:54:02.856293Z"
    },
    "collapsed": true
   },
   "outputs": [],
   "source": [
    "x = np.asarray(data[0][-1])"
   ]
  },
  {
   "cell_type": "code",
   "execution_count": 31,
   "metadata": {
    "ExecuteTime": {
     "end_time": "2017-10-02T08:54:03.352669Z",
     "start_time": "2017-10-02T08:54:03.169994Z"
    },
    "collapsed": false
   },
   "outputs": [
    {
     "data": {
      "text/plain": [
       "<matplotlib.image.AxesImage at 0x7f17deba0750>"
      ]
     },
     "execution_count": 31,
     "metadata": {},
     "output_type": "execute_result"
    },
    {
     "data": {
      "image/png": "[encoded data removed]",
      "text/plain": [
       "<matplotlib.figure.Figure at 0x7f17df172990>"
      ]
     },
     "metadata": {},
     "output_type": "display_data"
    }
   ],
   "source": [
    "plt.imshow(x > 50)"
   ]
  },
  {
   "cell_type": "code",
   "execution_count": null,
   "metadata": {
    "collapsed": true
   },
   "outputs": [],
   "source": []
  }
 ],
 "metadata": {
  "kernelspec": {
   "display_name": "Python 2",
   "language": "python",
   "name": "python2"
  },
  "language_info": {
   "codemirror_mode": {
    "name": "ipython",
    "version": 2
   },
   "file_extension": ".py",
   "mimetype": "text/x-python",
   "name": "python",
   "nbconvert_exporter": "python",
   "pygments_lexer": "ipython2",
   "version": "2.7.12"
  }
 },
 "nbformat": 4,
 "nbformat_minor": 2
}
