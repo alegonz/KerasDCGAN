{
 "cells": [
  {
   "cell_type": "code",
   "execution_count": null,
   "metadata": {
    "ExecuteTime": {
     "end_time": "2017-10-04T08:35:54.577733Z",
     "start_time": "2017-10-04T08:35:54.390305Z"
    }
   },
   "outputs": [],
   "source": [
    "%matplotlib inline"
   ]
  },
  {
   "cell_type": "code",
   "execution_count": null,
   "metadata": {
    "ExecuteTime": {
     "end_time": "2017-10-04T08:36:03.915026Z",
     "start_time": "2017-10-04T08:35:55.489512Z"
    }
   },
   "outputs": [],
   "source": [
    "import os\n",
    "from itertools import product\n",
    "import numpy as np\n",
    "import pandas as pd\n",
    "\n",
    "from keras.optimizers import RMSprop\n",
    "from kerasdcgan.etl import read_etl6_data, data2array\n",
    "from kerasdcgan.models import DCGAN\n",
    "from kerasdcgan.plot import plot_images"
   ]
  },
  {
   "cell_type": "markdown",
   "metadata": {},
   "source": [
    "### Read training data"
   ]
  },
  {
   "cell_type": "code",
   "execution_count": null,
   "metadata": {
    "ExecuteTime": {
     "end_time": "2017-10-04T08:36:04.809624Z",
     "start_time": "2017-10-04T08:36:03.916375Z"
    }
   },
   "outputs": [],
   "source": [
    "etl6_filepath = '/root/share/personal/data/ETL/ETL6/'\n",
    "npz_filepath = '/tmp/etl6.npz'\n",
    "\n",
    "if os.path.exists(npz_filepath):\n",
    "    dataz = np.load(npz_filepath)\n",
    "    x_all, y_all = dataz['x_all'], dataz['y_all']\n",
    "else:\n",
    "    data = read_etl6_data(etl6_filepath)\n",
    "    x_all, y_all = data2array(data, new_shape=(28, 28))\n",
    "    np.savez(file=npz_filepath, x_all=x_all, y_all=y_all)\n",
    "\n",
    "# Get katakana images\n",
    "katakana = [''.join(e) for e in product(' KSTNHMYRW', 'AIUEO')] + [' N']  # Includes obsolete characters\n",
    "katakana_idx = [i for i, label in enumerate(y_all) if label in katakana]\n",
    "x_train = x_all[katakana_idx]"
   ]
  },
  {
   "cell_type": "markdown",
   "metadata": {},
   "source": [
    "### Build DCGAN model"
   ]
  },
  {
   "cell_type": "code",
   "execution_count": null,
   "metadata": {
    "ExecuteTime": {
     "end_time": "2017-10-04T08:36:05.348643Z",
     "start_time": "2017-10-04T08:36:04.811337Z"
    },
    "scrolled": true
   },
   "outputs": [],
   "source": [
    "a_optimizer = RMSprop(lr=0.0002, decay=6e-8)\n",
    "ga_optimizer = RMSprop(lr=0.0001, decay=3e-8)\n",
    "\n",
    "dcgan = DCGAN(g_input_dim=100, g_filters=512, g_kernel_size=5,\n",
    "              g_dropout_rate=0.4, g_distribution='gaussian',\n",
    "              a_filters=512, a_kernel_size=5, a_leakyrelu_alpha=0.2, a_dropout_rate=0.4,\n",
    "              a_optimizer=a_optimizer,\n",
    "              ga_optimizer=ga_optimizer)\n",
    "dcgan.build()\n",
    "dcgan.summary()"
   ]
  },
  {
   "cell_type": "markdown",
   "metadata": {},
   "source": [
    "### Train DCGAN"
   ]
  },
  {
   "cell_type": "markdown",
   "metadata": {},
   "source": [
    "#### Fixed noise vectors to check generator progress"
   ]
  },
  {
   "cell_type": "code",
   "execution_count": null,
   "metadata": {
    "ExecuteTime": {
     "end_time": "2017-10-04T08:36:05.352028Z",
     "start_time": "2017-10-04T08:36:05.349944Z"
    }
   },
   "outputs": [],
   "source": [
    "noise_samples = dcgan.generate_noise(25)"
   ]
  },
  {
   "cell_type": "markdown",
   "metadata": {},
   "source": [
    "#### Main training loop"
   ]
  },
  {
   "cell_type": "code",
   "execution_count": null,
   "metadata": {
    "ExecuteTime": {
     "end_time": "2017-10-04T08:36:05.364009Z",
     "start_time": "2017-10-04T08:36:05.353254Z"
    }
   },
   "outputs": [],
   "source": [
    "# Image batch generator\n",
    "def image_batch_generator(x, batch_size):\n",
    "    n = x.shape[0]\n",
    "    while 1:\n",
    "        idx = np.random.shuffle(np.array(range(n)))\n",
    "        for batch in range(n // batch_size):\n",
    "            i1, i2 = batch*batch_size, (batch + 1)*batch_size\n",
    "            yield x[i1:i2]\n",
    "\n",
    "\n",
    "# For printing progress\n",
    "def series_to_string(series):\n",
    "    string = series.to_string().split('\\n')\n",
    "    string = [': '.join(s.split()) for s in string]\n",
    "    string = '    '.join(string)\n",
    "    return string"
   ]
  },
  {
   "cell_type": "code",
   "execution_count": null,
   "metadata": {
    "ExecuteTime": {
     "end_time": "2017-10-04T08:36:05.370579Z",
     "start_time": "2017-10-04T08:36:05.365547Z"
    }
   },
   "outputs": [],
   "source": [
    "steps = 5000\n",
    "batch_size = 256\n",
    "generator = image_batch_generator(x_train, batch_size)\n",
    "\n",
    "df = pd.DataFrame(columns=['ad_loss', 'ad_acc', 'stacked_loss', 'stacked_acc'])"
   ]
  },
  {
   "cell_type": "code",
   "execution_count": null,
   "metadata": {
    "ExecuteTime": {
     "end_time": "2017-10-04T08:46:27.085134Z",
     "start_time": "2017-10-04T08:36:12.910686Z"
    },
    "scrolled": true
   },
   "outputs": [],
   "source": [
    "for step in range(steps):\n",
    "    x_train_batch = next(generator)\n",
    "    ad_metrics, stacked_metrics = dcgan.train_on_batch(x_train_batch, freeze_discriminator=True)\n",
    "    \n",
    "    df.loc[step, ['ad_loss', 'ad_acc', 'stacked_loss', 'stacked_acc']] = ad_metrics + stacked_metrics\n",
    "    \n",
    "    if step % 500 == 0:\n",
    "        print(step, series_to_string(df.loc[step]))\n",
    "        filename = 'fake_images_%s.png' % str(step).zfill(6)\n",
    "        generated_images = dcgan.generate(noise_samples)\n",
    "        plot_images(generated_images, filename, cols=5)"
   ]
  },
  {
   "cell_type": "markdown",
   "metadata": {},
   "source": [
    "### Generate images"
   ]
  },
  {
   "cell_type": "code",
   "execution_count": null,
   "metadata": {
    "ExecuteTime": {
     "end_time": "2017-10-04T08:46:42.393378Z",
     "start_time": "2017-10-04T08:46:40.477590Z"
    }
   },
   "outputs": [],
   "source": [
    "generated_images = dcgan.generate(25)\n",
    "plot_images(generated_images, cols=5)"
   ]
  },
  {
   "cell_type": "markdown",
   "metadata": {},
   "source": [
    "### Plot loss/accuracy progress"
   ]
  },
  {
   "cell_type": "code",
   "execution_count": null,
   "metadata": {
    "ExecuteTime": {
     "end_time": "2017-10-04T07:52:30.028029Z",
     "start_time": "2017-10-04T07:52:29.660546Z"
    },
    "scrolled": false
   },
   "outputs": [],
   "source": [
    "df.plot(figsize=(20, 10))\n",
    "plt.ylim([0, 5])\n",
    "plt.show()"
   ]
  }
 ],
 "metadata": {
  "kernelspec": {
   "display_name": "Python 3",
   "language": "python",
   "name": "python3"
  },
  "language_info": {
   "codemirror_mode": {
    "name": "ipython",
    "version": 3
   },
   "file_extension": ".py",
   "mimetype": "text/x-python",
   "name": "python",
   "nbconvert_exporter": "python",
   "pygments_lexer": "ipython3",
   "version": "3.5.2"
  }
 },
 "nbformat": 4,
 "nbformat_minor": 2
}
